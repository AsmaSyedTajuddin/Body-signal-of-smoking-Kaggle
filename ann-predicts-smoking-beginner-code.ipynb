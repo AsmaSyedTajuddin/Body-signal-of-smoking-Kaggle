{
 "cells": [
  {
   "cell_type": "markdown",
   "id": "eb0a8876",
   "metadata": {
    "id": "mL-D_r6dbiyq",
    "papermill": {
     "duration": 0.026626,
     "end_time": "2022-05-13T18:14:49.892383",
     "exception": false,
     "start_time": "2022-05-13T18:14:49.865757",
     "status": "completed"
    },
    "tags": []
   },
   "source": [
    "The idea behind this analysis was to compare the performance of an **ANN** with the analysis done by **@QUSAY AL-BTOUSH**.\n",
    "\n",
    "He has achieved an accuracy of 82%, which led me to think that given such a large dataset to analyze, it could be more appropriate to use an ANN to achieve more precision than **Random Forest** algorythm.\n",
    "\n",
    "But it must be said, I have little experience with these algorithms and I'm not sure if the parameters and data processing that I have used in this exercise are the most optimal for it(Probably not). If you know any way to improve my sequential model to have a better accuracy in the predictions, I would appreciate it.\n",
    "\n",
    "Thanks for your attention!"
   ]
  },
  {
   "cell_type": "code",
   "execution_count": 1,
   "id": "b9379f4a",
   "metadata": {
    "execution": {
     "iopub.execute_input": "2022-05-13T18:14:49.946306Z",
     "iopub.status.busy": "2022-05-13T18:14:49.945840Z",
     "iopub.status.idle": "2022-05-13T18:14:49.973708Z",
     "shell.execute_reply": "2022-05-13T18:14:49.972292Z"
    },
    "papermill": {
     "duration": 0.056959,
     "end_time": "2022-05-13T18:14:49.976297",
     "exception": false,
     "start_time": "2022-05-13T18:14:49.919338",
     "status": "completed"
    },
    "tags": []
   },
   "outputs": [
    {
     "name": "stdout",
     "output_type": "stream",
     "text": [
      "/kaggle/input/body-signal-of-smoking/smoking.csv\n",
      "/kaggle/input/body-signal-of-smoking/competition_format/y_test.csv\n",
      "/kaggle/input/body-signal-of-smoking/competition_format/x_test.csv\n",
      "/kaggle/input/body-signal-of-smoking/competition_format/y_train.csv\n",
      "/kaggle/input/body-signal-of-smoking/competition_format/x_train.csv\n"
     ]
    }
   ],
   "source": [
    "import os\n",
    "for dirname, _, filenames in os.walk('/kaggle/input'):\n",
    "    for filename in filenames:\n",
    "        print(os.path.join(dirname, filename))"
   ]
  },
  {
   "cell_type": "code",
   "execution_count": 2,
   "id": "241a404e",
   "metadata": {
    "execution": {
     "iopub.execute_input": "2022-05-13T18:14:50.028313Z",
     "iopub.status.busy": "2022-05-13T18:14:50.027417Z",
     "iopub.status.idle": "2022-05-13T18:14:51.158835Z",
     "shell.execute_reply": "2022-05-13T18:14:51.158176Z"
    },
    "id": "d0692110",
    "papermill": {
     "duration": 1.160983,
     "end_time": "2022-05-13T18:14:51.161841",
     "exception": false,
     "start_time": "2022-05-13T18:14:50.000858",
     "status": "completed"
    },
    "tags": []
   },
   "outputs": [],
   "source": [
    "import numpy as np\n",
    "import pandas as pd\n",
    "import seaborn as sns\n",
    "import matplotlib.pyplot as plt"
   ]
  },
  {
   "cell_type": "markdown",
   "id": "4cead3b5",
   "metadata": {
    "id": "AmchhN3oeAuW",
    "papermill": {
     "duration": 0.02552,
     "end_time": "2022-05-13T18:14:51.213184",
     "exception": false,
     "start_time": "2022-05-13T18:14:51.187664",
     "status": "completed"
    },
    "tags": []
   },
   "source": [
    "#  Analyze data"
   ]
  },
  {
   "cell_type": "code",
   "execution_count": 3,
   "id": "61c98d9f",
   "metadata": {
    "execution": {
     "iopub.execute_input": "2022-05-13T18:14:51.267356Z",
     "iopub.status.busy": "2022-05-13T18:14:51.266314Z",
     "iopub.status.idle": "2022-05-13T18:14:51.547997Z",
     "shell.execute_reply": "2022-05-13T18:14:51.547004Z"
    },
    "id": "4040bb63",
    "papermill": {
     "duration": 0.311714,
     "end_time": "2022-05-13T18:14:51.550211",
     "exception": false,
     "start_time": "2022-05-13T18:14:51.238497",
     "status": "completed"
    },
    "tags": []
   },
   "outputs": [],
   "source": [
    "df = pd.read_csv('/kaggle/input/body-signal-of-smoking/smoking.csv')"
   ]
  },
  {
   "cell_type": "markdown",
   "id": "7d6cc593",
   "metadata": {
    "id": "JymnN-W-eJSm",
    "papermill": {
     "duration": 0.025768,
     "end_time": "2022-05-13T18:14:51.600732",
     "exception": false,
     "start_time": "2022-05-13T18:14:51.574964",
     "status": "completed"
    },
    "tags": []
   },
   "source": [
    "Here we can analyze the **27 columns** that our dataset has, including the **type** and **amount** of data we have"
   ]
  },
  {
   "cell_type": "code",
   "execution_count": 4,
   "id": "d9e5022a",
   "metadata": {
    "execution": {
     "iopub.execute_input": "2022-05-13T18:14:51.652019Z",
     "iopub.status.busy": "2022-05-13T18:14:51.651437Z",
     "iopub.status.idle": "2022-05-13T18:14:51.685608Z",
     "shell.execute_reply": "2022-05-13T18:14:51.684982Z"
    },
    "id": "fccfb9da",
    "outputId": "82c9ad7e-cfb2-4862-843a-634420991bab",
    "papermill": {
     "duration": 0.062642,
     "end_time": "2022-05-13T18:14:51.687547",
     "exception": false,
     "start_time": "2022-05-13T18:14:51.624905",
     "status": "completed"
    },
    "tags": []
   },
   "outputs": [
    {
     "data": {
      "text/html": [
       "<div>\n",
       "<style scoped>\n",
       "    .dataframe tbody tr th:only-of-type {\n",
       "        vertical-align: middle;\n",
       "    }\n",
       "\n",
       "    .dataframe tbody tr th {\n",
       "        vertical-align: top;\n",
       "    }\n",
       "\n",
       "    .dataframe thead th {\n",
       "        text-align: right;\n",
       "    }\n",
       "</style>\n",
       "<table border=\"1\" class=\"dataframe\">\n",
       "  <thead>\n",
       "    <tr style=\"text-align: right;\">\n",
       "      <th></th>\n",
       "      <th>ID</th>\n",
       "      <th>gender</th>\n",
       "      <th>age</th>\n",
       "      <th>height(cm)</th>\n",
       "      <th>weight(kg)</th>\n",
       "      <th>waist(cm)</th>\n",
       "      <th>eyesight(left)</th>\n",
       "      <th>eyesight(right)</th>\n",
       "      <th>hearing(left)</th>\n",
       "      <th>hearing(right)</th>\n",
       "      <th>...</th>\n",
       "      <th>hemoglobin</th>\n",
       "      <th>Urine protein</th>\n",
       "      <th>serum creatinine</th>\n",
       "      <th>AST</th>\n",
       "      <th>ALT</th>\n",
       "      <th>Gtp</th>\n",
       "      <th>oral</th>\n",
       "      <th>dental caries</th>\n",
       "      <th>tartar</th>\n",
       "      <th>smoking</th>\n",
       "    </tr>\n",
       "  </thead>\n",
       "  <tbody>\n",
       "    <tr>\n",
       "      <th>0</th>\n",
       "      <td>0</td>\n",
       "      <td>F</td>\n",
       "      <td>40</td>\n",
       "      <td>155</td>\n",
       "      <td>60</td>\n",
       "      <td>81.3</td>\n",
       "      <td>1.2</td>\n",
       "      <td>1.0</td>\n",
       "      <td>1.0</td>\n",
       "      <td>1.0</td>\n",
       "      <td>...</td>\n",
       "      <td>12.9</td>\n",
       "      <td>1.0</td>\n",
       "      <td>0.7</td>\n",
       "      <td>18.0</td>\n",
       "      <td>19.0</td>\n",
       "      <td>27.0</td>\n",
       "      <td>Y</td>\n",
       "      <td>0</td>\n",
       "      <td>Y</td>\n",
       "      <td>0</td>\n",
       "    </tr>\n",
       "    <tr>\n",
       "      <th>1</th>\n",
       "      <td>1</td>\n",
       "      <td>F</td>\n",
       "      <td>40</td>\n",
       "      <td>160</td>\n",
       "      <td>60</td>\n",
       "      <td>81.0</td>\n",
       "      <td>0.8</td>\n",
       "      <td>0.6</td>\n",
       "      <td>1.0</td>\n",
       "      <td>1.0</td>\n",
       "      <td>...</td>\n",
       "      <td>12.7</td>\n",
       "      <td>1.0</td>\n",
       "      <td>0.6</td>\n",
       "      <td>22.0</td>\n",
       "      <td>19.0</td>\n",
       "      <td>18.0</td>\n",
       "      <td>Y</td>\n",
       "      <td>0</td>\n",
       "      <td>Y</td>\n",
       "      <td>0</td>\n",
       "    </tr>\n",
       "    <tr>\n",
       "      <th>2</th>\n",
       "      <td>2</td>\n",
       "      <td>M</td>\n",
       "      <td>55</td>\n",
       "      <td>170</td>\n",
       "      <td>60</td>\n",
       "      <td>80.0</td>\n",
       "      <td>0.8</td>\n",
       "      <td>0.8</td>\n",
       "      <td>1.0</td>\n",
       "      <td>1.0</td>\n",
       "      <td>...</td>\n",
       "      <td>15.8</td>\n",
       "      <td>1.0</td>\n",
       "      <td>1.0</td>\n",
       "      <td>21.0</td>\n",
       "      <td>16.0</td>\n",
       "      <td>22.0</td>\n",
       "      <td>Y</td>\n",
       "      <td>0</td>\n",
       "      <td>N</td>\n",
       "      <td>1</td>\n",
       "    </tr>\n",
       "    <tr>\n",
       "      <th>3</th>\n",
       "      <td>3</td>\n",
       "      <td>M</td>\n",
       "      <td>40</td>\n",
       "      <td>165</td>\n",
       "      <td>70</td>\n",
       "      <td>88.0</td>\n",
       "      <td>1.5</td>\n",
       "      <td>1.5</td>\n",
       "      <td>1.0</td>\n",
       "      <td>1.0</td>\n",
       "      <td>...</td>\n",
       "      <td>14.7</td>\n",
       "      <td>1.0</td>\n",
       "      <td>1.0</td>\n",
       "      <td>19.0</td>\n",
       "      <td>26.0</td>\n",
       "      <td>18.0</td>\n",
       "      <td>Y</td>\n",
       "      <td>0</td>\n",
       "      <td>Y</td>\n",
       "      <td>0</td>\n",
       "    </tr>\n",
       "    <tr>\n",
       "      <th>4</th>\n",
       "      <td>4</td>\n",
       "      <td>F</td>\n",
       "      <td>40</td>\n",
       "      <td>155</td>\n",
       "      <td>60</td>\n",
       "      <td>86.0</td>\n",
       "      <td>1.0</td>\n",
       "      <td>1.0</td>\n",
       "      <td>1.0</td>\n",
       "      <td>1.0</td>\n",
       "      <td>...</td>\n",
       "      <td>12.5</td>\n",
       "      <td>1.0</td>\n",
       "      <td>0.6</td>\n",
       "      <td>16.0</td>\n",
       "      <td>14.0</td>\n",
       "      <td>22.0</td>\n",
       "      <td>Y</td>\n",
       "      <td>0</td>\n",
       "      <td>N</td>\n",
       "      <td>0</td>\n",
       "    </tr>\n",
       "  </tbody>\n",
       "</table>\n",
       "<p>5 rows × 27 columns</p>\n",
       "</div>"
      ],
      "text/plain": [
       "   ID gender  age  height(cm)  weight(kg)  waist(cm)  eyesight(left)  \\\n",
       "0   0      F   40         155          60       81.3             1.2   \n",
       "1   1      F   40         160          60       81.0             0.8   \n",
       "2   2      M   55         170          60       80.0             0.8   \n",
       "3   3      M   40         165          70       88.0             1.5   \n",
       "4   4      F   40         155          60       86.0             1.0   \n",
       "\n",
       "   eyesight(right)  hearing(left)  hearing(right)  ...  hemoglobin  \\\n",
       "0              1.0            1.0             1.0  ...        12.9   \n",
       "1              0.6            1.0             1.0  ...        12.7   \n",
       "2              0.8            1.0             1.0  ...        15.8   \n",
       "3              1.5            1.0             1.0  ...        14.7   \n",
       "4              1.0            1.0             1.0  ...        12.5   \n",
       "\n",
       "   Urine protein  serum creatinine   AST   ALT   Gtp  oral  dental caries  \\\n",
       "0            1.0               0.7  18.0  19.0  27.0     Y              0   \n",
       "1            1.0               0.6  22.0  19.0  18.0     Y              0   \n",
       "2            1.0               1.0  21.0  16.0  22.0     Y              0   \n",
       "3            1.0               1.0  19.0  26.0  18.0     Y              0   \n",
       "4            1.0               0.6  16.0  14.0  22.0     Y              0   \n",
       "\n",
       "   tartar  smoking  \n",
       "0       Y        0  \n",
       "1       Y        0  \n",
       "2       N        1  \n",
       "3       Y        0  \n",
       "4       N        0  \n",
       "\n",
       "[5 rows x 27 columns]"
      ]
     },
     "execution_count": 4,
     "metadata": {},
     "output_type": "execute_result"
    }
   ],
   "source": [
    "df.head()"
   ]
  },
  {
   "cell_type": "code",
   "execution_count": 5,
   "id": "17ab9edd",
   "metadata": {
    "execution": {
     "iopub.execute_input": "2022-05-13T18:14:51.738611Z",
     "iopub.status.busy": "2022-05-13T18:14:51.738126Z",
     "iopub.status.idle": "2022-05-13T18:14:51.771706Z",
     "shell.execute_reply": "2022-05-13T18:14:51.771051Z"
    },
    "id": "a318c4fd",
    "outputId": "2bf28c5d-380e-49e1-ed0b-6e332c0b4fef",
    "papermill": {
     "duration": 0.062278,
     "end_time": "2022-05-13T18:14:51.774827",
     "exception": false,
     "start_time": "2022-05-13T18:14:51.712549",
     "status": "completed"
    },
    "scrolled": true,
    "tags": []
   },
   "outputs": [
    {
     "name": "stdout",
     "output_type": "stream",
     "text": [
      "<class 'pandas.core.frame.DataFrame'>\n",
      "RangeIndex: 55692 entries, 0 to 55691\n",
      "Data columns (total 27 columns):\n",
      " #   Column               Non-Null Count  Dtype  \n",
      "---  ------               --------------  -----  \n",
      " 0   ID                   55692 non-null  int64  \n",
      " 1   gender               55692 non-null  object \n",
      " 2   age                  55692 non-null  int64  \n",
      " 3   height(cm)           55692 non-null  int64  \n",
      " 4   weight(kg)           55692 non-null  int64  \n",
      " 5   waist(cm)            55692 non-null  float64\n",
      " 6   eyesight(left)       55692 non-null  float64\n",
      " 7   eyesight(right)      55692 non-null  float64\n",
      " 8   hearing(left)        55692 non-null  float64\n",
      " 9   hearing(right)       55692 non-null  float64\n",
      " 10  systolic             55692 non-null  float64\n",
      " 11  relaxation           55692 non-null  float64\n",
      " 12  fasting blood sugar  55692 non-null  float64\n",
      " 13  Cholesterol          55692 non-null  float64\n",
      " 14  triglyceride         55692 non-null  float64\n",
      " 15  HDL                  55692 non-null  float64\n",
      " 16  LDL                  55692 non-null  float64\n",
      " 17  hemoglobin           55692 non-null  float64\n",
      " 18  Urine protein        55692 non-null  float64\n",
      " 19  serum creatinine     55692 non-null  float64\n",
      " 20  AST                  55692 non-null  float64\n",
      " 21  ALT                  55692 non-null  float64\n",
      " 22  Gtp                  55692 non-null  float64\n",
      " 23  oral                 55692 non-null  object \n",
      " 24  dental caries        55692 non-null  int64  \n",
      " 25  tartar               55692 non-null  object \n",
      " 26  smoking              55692 non-null  int64  \n",
      "dtypes: float64(18), int64(6), object(3)\n",
      "memory usage: 11.5+ MB\n"
     ]
    }
   ],
   "source": [
    "df.info()"
   ]
  },
  {
   "cell_type": "markdown",
   "id": "5a921350",
   "metadata": {
    "id": "Faf4OVs2hPVM",
    "papermill": {
     "duration": 0.029234,
     "end_time": "2022-05-13T18:14:51.829898",
     "exception": false,
     "start_time": "2022-05-13T18:14:51.800664",
     "status": "completed"
    },
    "tags": []
   },
   "source": [
    "# Clean data"
   ]
  },
  {
   "cell_type": "markdown",
   "id": "a8fa9508",
   "metadata": {
    "id": "prslPpvleeaZ",
    "papermill": {
     "duration": 0.030637,
     "end_time": "2022-05-13T18:14:51.885684",
     "exception": false,
     "start_time": "2022-05-13T18:14:51.855047",
     "status": "completed"
    },
    "tags": []
   },
   "source": [
    "Let's make **dummies** of the **'tartar'** and **'gender'** columns to convert the objects into integers so our **ANN** understands the data better.\n",
    "\n",
    "And get rid of the **'oral'** column to completely clean the dataset from objects"
   ]
  },
  {
   "cell_type": "code",
   "execution_count": 6,
   "id": "c45ffe49",
   "metadata": {
    "execution": {
     "iopub.execute_input": "2022-05-13T18:14:51.943271Z",
     "iopub.status.busy": "2022-05-13T18:14:51.943014Z",
     "iopub.status.idle": "2022-05-13T18:14:51.957288Z",
     "shell.execute_reply": "2022-05-13T18:14:51.956597Z"
    },
    "id": "1f6d17d8",
    "papermill": {
     "duration": 0.045267,
     "end_time": "2022-05-13T18:14:51.959326",
     "exception": false,
     "start_time": "2022-05-13T18:14:51.914059",
     "status": "completed"
    },
    "tags": []
   },
   "outputs": [],
   "source": [
    "dummies_tartar = pd.get_dummies(df['tartar'])\n",
    "dummies_gender = pd.get_dummies(df['gender'])"
   ]
  },
  {
   "cell_type": "code",
   "execution_count": 7,
   "id": "6a3a1eb1",
   "metadata": {
    "execution": {
     "iopub.execute_input": "2022-05-13T18:14:52.012053Z",
     "iopub.status.busy": "2022-05-13T18:14:52.011558Z",
     "iopub.status.idle": "2022-05-13T18:14:52.019275Z",
     "shell.execute_reply": "2022-05-13T18:14:52.018562Z"
    },
    "id": "9b14696f",
    "outputId": "6394a3a9-9958-4a4e-9094-4db5f64160ba",
    "papermill": {
     "duration": 0.037057,
     "end_time": "2022-05-13T18:14:52.021376",
     "exception": false,
     "start_time": "2022-05-13T18:14:51.984319",
     "status": "completed"
    },
    "tags": []
   },
   "outputs": [
    {
     "data": {
      "text/html": [
       "<div>\n",
       "<style scoped>\n",
       "    .dataframe tbody tr th:only-of-type {\n",
       "        vertical-align: middle;\n",
       "    }\n",
       "\n",
       "    .dataframe tbody tr th {\n",
       "        vertical-align: top;\n",
       "    }\n",
       "\n",
       "    .dataframe thead th {\n",
       "        text-align: right;\n",
       "    }\n",
       "</style>\n",
       "<table border=\"1\" class=\"dataframe\">\n",
       "  <thead>\n",
       "    <tr style=\"text-align: right;\">\n",
       "      <th></th>\n",
       "      <th>N</th>\n",
       "      <th>Y</th>\n",
       "    </tr>\n",
       "  </thead>\n",
       "  <tbody>\n",
       "    <tr>\n",
       "      <th>0</th>\n",
       "      <td>0</td>\n",
       "      <td>1</td>\n",
       "    </tr>\n",
       "    <tr>\n",
       "      <th>1</th>\n",
       "      <td>0</td>\n",
       "      <td>1</td>\n",
       "    </tr>\n",
       "    <tr>\n",
       "      <th>2</th>\n",
       "      <td>1</td>\n",
       "      <td>0</td>\n",
       "    </tr>\n",
       "    <tr>\n",
       "      <th>3</th>\n",
       "      <td>0</td>\n",
       "      <td>1</td>\n",
       "    </tr>\n",
       "    <tr>\n",
       "      <th>4</th>\n",
       "      <td>1</td>\n",
       "      <td>0</td>\n",
       "    </tr>\n",
       "  </tbody>\n",
       "</table>\n",
       "</div>"
      ],
      "text/plain": [
       "   N  Y\n",
       "0  0  1\n",
       "1  0  1\n",
       "2  1  0\n",
       "3  0  1\n",
       "4  1  0"
      ]
     },
     "execution_count": 7,
     "metadata": {},
     "output_type": "execute_result"
    }
   ],
   "source": [
    "#Example of what dummies look like inside\n",
    "\n",
    "dummies_tartar.head() "
   ]
  },
  {
   "cell_type": "code",
   "execution_count": 8,
   "id": "ca5683d9",
   "metadata": {
    "execution": {
     "iopub.execute_input": "2022-05-13T18:14:52.074401Z",
     "iopub.status.busy": "2022-05-13T18:14:52.073831Z",
     "iopub.status.idle": "2022-05-13T18:14:52.094925Z",
     "shell.execute_reply": "2022-05-13T18:14:52.094219Z"
    },
    "id": "ac449616",
    "papermill": {
     "duration": 0.050606,
     "end_time": "2022-05-13T18:14:52.097049",
     "exception": false,
     "start_time": "2022-05-13T18:14:52.046443",
     "status": "completed"
    },
    "tags": []
   },
   "outputs": [],
   "source": [
    "#Join dummies to original dataframe\n",
    "\n",
    "df = df.join(dummies_tartar)\n",
    "df = df.join(dummies_gender)"
   ]
  },
  {
   "cell_type": "code",
   "execution_count": 9,
   "id": "20cefa27",
   "metadata": {
    "execution": {
     "iopub.execute_input": "2022-05-13T18:14:52.152212Z",
     "iopub.status.busy": "2022-05-13T18:14:52.151694Z",
     "iopub.status.idle": "2022-05-13T18:14:52.157412Z",
     "shell.execute_reply": "2022-05-13T18:14:52.156823Z"
    },
    "id": "e1e2f441",
    "papermill": {
     "duration": 0.035733,
     "end_time": "2022-05-13T18:14:52.159647",
     "exception": false,
     "start_time": "2022-05-13T18:14:52.123914",
     "status": "completed"
    },
    "tags": []
   },
   "outputs": [],
   "source": [
    "#Delete unnecesary columns\n",
    "\n",
    "del df['tartar']\n",
    "del df['gender']\n",
    "del df['oral']"
   ]
  },
  {
   "cell_type": "markdown",
   "id": "d8fc9e8d",
   "metadata": {
    "id": "UKd0l9ohfu8w",
    "papermill": {
     "duration": 0.026335,
     "end_time": "2022-05-13T18:14:52.212250",
     "exception": false,
     "start_time": "2022-05-13T18:14:52.185915",
     "status": "completed"
    },
    "tags": []
   },
   "source": [
    "Analyze our new Dataframe"
   ]
  },
  {
   "cell_type": "code",
   "execution_count": 10,
   "id": "bf0101db",
   "metadata": {
    "execution": {
     "iopub.execute_input": "2022-05-13T18:14:52.268359Z",
     "iopub.status.busy": "2022-05-13T18:14:52.267822Z",
     "iopub.status.idle": "2022-05-13T18:14:52.286750Z",
     "shell.execute_reply": "2022-05-13T18:14:52.285888Z"
    },
    "id": "46d0ca7a",
    "outputId": "991592b6-26b3-4135-c905-5bc2fd7caa48",
    "papermill": {
     "duration": 0.050383,
     "end_time": "2022-05-13T18:14:52.289357",
     "exception": false,
     "start_time": "2022-05-13T18:14:52.238974",
     "status": "completed"
    },
    "scrolled": true,
    "tags": []
   },
   "outputs": [
    {
     "name": "stdout",
     "output_type": "stream",
     "text": [
      "<class 'pandas.core.frame.DataFrame'>\n",
      "RangeIndex: 55692 entries, 0 to 55691\n",
      "Data columns (total 28 columns):\n",
      " #   Column               Non-Null Count  Dtype  \n",
      "---  ------               --------------  -----  \n",
      " 0   ID                   55692 non-null  int64  \n",
      " 1   age                  55692 non-null  int64  \n",
      " 2   height(cm)           55692 non-null  int64  \n",
      " 3   weight(kg)           55692 non-null  int64  \n",
      " 4   waist(cm)            55692 non-null  float64\n",
      " 5   eyesight(left)       55692 non-null  float64\n",
      " 6   eyesight(right)      55692 non-null  float64\n",
      " 7   hearing(left)        55692 non-null  float64\n",
      " 8   hearing(right)       55692 non-null  float64\n",
      " 9   systolic             55692 non-null  float64\n",
      " 10  relaxation           55692 non-null  float64\n",
      " 11  fasting blood sugar  55692 non-null  float64\n",
      " 12  Cholesterol          55692 non-null  float64\n",
      " 13  triglyceride         55692 non-null  float64\n",
      " 14  HDL                  55692 non-null  float64\n",
      " 15  LDL                  55692 non-null  float64\n",
      " 16  hemoglobin           55692 non-null  float64\n",
      " 17  Urine protein        55692 non-null  float64\n",
      " 18  serum creatinine     55692 non-null  float64\n",
      " 19  AST                  55692 non-null  float64\n",
      " 20  ALT                  55692 non-null  float64\n",
      " 21  Gtp                  55692 non-null  float64\n",
      " 22  dental caries        55692 non-null  int64  \n",
      " 23  smoking              55692 non-null  int64  \n",
      " 24  N                    55692 non-null  uint8  \n",
      " 25  Y                    55692 non-null  uint8  \n",
      " 26  F                    55692 non-null  uint8  \n",
      " 27  M                    55692 non-null  uint8  \n",
      "dtypes: float64(18), int64(6), uint8(4)\n",
      "memory usage: 10.4 MB\n"
     ]
    }
   ],
   "source": [
    "df.info()"
   ]
  },
  {
   "cell_type": "code",
   "execution_count": 11,
   "id": "550d48ae",
   "metadata": {
    "execution": {
     "iopub.execute_input": "2022-05-13T18:14:52.342123Z",
     "iopub.status.busy": "2022-05-13T18:14:52.341857Z",
     "iopub.status.idle": "2022-05-13T18:14:52.366081Z",
     "shell.execute_reply": "2022-05-13T18:14:52.365213Z"
    },
    "id": "9e5f3c0c",
    "outputId": "27c02437-71f5-4003-e307-ec1ad5228ebb",
    "papermill": {
     "duration": 0.053445,
     "end_time": "2022-05-13T18:14:52.368097",
     "exception": false,
     "start_time": "2022-05-13T18:14:52.314652",
     "status": "completed"
    },
    "scrolled": true,
    "tags": []
   },
   "outputs": [
    {
     "data": {
      "text/html": [
       "<div>\n",
       "<style scoped>\n",
       "    .dataframe tbody tr th:only-of-type {\n",
       "        vertical-align: middle;\n",
       "    }\n",
       "\n",
       "    .dataframe tbody tr th {\n",
       "        vertical-align: top;\n",
       "    }\n",
       "\n",
       "    .dataframe thead th {\n",
       "        text-align: right;\n",
       "    }\n",
       "</style>\n",
       "<table border=\"1\" class=\"dataframe\">\n",
       "  <thead>\n",
       "    <tr style=\"text-align: right;\">\n",
       "      <th></th>\n",
       "      <th>ID</th>\n",
       "      <th>age</th>\n",
       "      <th>height(cm)</th>\n",
       "      <th>weight(kg)</th>\n",
       "      <th>waist(cm)</th>\n",
       "      <th>eyesight(left)</th>\n",
       "      <th>eyesight(right)</th>\n",
       "      <th>hearing(left)</th>\n",
       "      <th>hearing(right)</th>\n",
       "      <th>systolic</th>\n",
       "      <th>...</th>\n",
       "      <th>serum creatinine</th>\n",
       "      <th>AST</th>\n",
       "      <th>ALT</th>\n",
       "      <th>Gtp</th>\n",
       "      <th>dental caries</th>\n",
       "      <th>smoking</th>\n",
       "      <th>N</th>\n",
       "      <th>Y</th>\n",
       "      <th>F</th>\n",
       "      <th>M</th>\n",
       "    </tr>\n",
       "  </thead>\n",
       "  <tbody>\n",
       "    <tr>\n",
       "      <th>0</th>\n",
       "      <td>0</td>\n",
       "      <td>40</td>\n",
       "      <td>155</td>\n",
       "      <td>60</td>\n",
       "      <td>81.3</td>\n",
       "      <td>1.2</td>\n",
       "      <td>1.0</td>\n",
       "      <td>1.0</td>\n",
       "      <td>1.0</td>\n",
       "      <td>114.0</td>\n",
       "      <td>...</td>\n",
       "      <td>0.7</td>\n",
       "      <td>18.0</td>\n",
       "      <td>19.0</td>\n",
       "      <td>27.0</td>\n",
       "      <td>0</td>\n",
       "      <td>0</td>\n",
       "      <td>0</td>\n",
       "      <td>1</td>\n",
       "      <td>1</td>\n",
       "      <td>0</td>\n",
       "    </tr>\n",
       "    <tr>\n",
       "      <th>1</th>\n",
       "      <td>1</td>\n",
       "      <td>40</td>\n",
       "      <td>160</td>\n",
       "      <td>60</td>\n",
       "      <td>81.0</td>\n",
       "      <td>0.8</td>\n",
       "      <td>0.6</td>\n",
       "      <td>1.0</td>\n",
       "      <td>1.0</td>\n",
       "      <td>119.0</td>\n",
       "      <td>...</td>\n",
       "      <td>0.6</td>\n",
       "      <td>22.0</td>\n",
       "      <td>19.0</td>\n",
       "      <td>18.0</td>\n",
       "      <td>0</td>\n",
       "      <td>0</td>\n",
       "      <td>0</td>\n",
       "      <td>1</td>\n",
       "      <td>1</td>\n",
       "      <td>0</td>\n",
       "    </tr>\n",
       "    <tr>\n",
       "      <th>2</th>\n",
       "      <td>2</td>\n",
       "      <td>55</td>\n",
       "      <td>170</td>\n",
       "      <td>60</td>\n",
       "      <td>80.0</td>\n",
       "      <td>0.8</td>\n",
       "      <td>0.8</td>\n",
       "      <td>1.0</td>\n",
       "      <td>1.0</td>\n",
       "      <td>138.0</td>\n",
       "      <td>...</td>\n",
       "      <td>1.0</td>\n",
       "      <td>21.0</td>\n",
       "      <td>16.0</td>\n",
       "      <td>22.0</td>\n",
       "      <td>0</td>\n",
       "      <td>1</td>\n",
       "      <td>1</td>\n",
       "      <td>0</td>\n",
       "      <td>0</td>\n",
       "      <td>1</td>\n",
       "    </tr>\n",
       "    <tr>\n",
       "      <th>3</th>\n",
       "      <td>3</td>\n",
       "      <td>40</td>\n",
       "      <td>165</td>\n",
       "      <td>70</td>\n",
       "      <td>88.0</td>\n",
       "      <td>1.5</td>\n",
       "      <td>1.5</td>\n",
       "      <td>1.0</td>\n",
       "      <td>1.0</td>\n",
       "      <td>100.0</td>\n",
       "      <td>...</td>\n",
       "      <td>1.0</td>\n",
       "      <td>19.0</td>\n",
       "      <td>26.0</td>\n",
       "      <td>18.0</td>\n",
       "      <td>0</td>\n",
       "      <td>0</td>\n",
       "      <td>0</td>\n",
       "      <td>1</td>\n",
       "      <td>0</td>\n",
       "      <td>1</td>\n",
       "    </tr>\n",
       "    <tr>\n",
       "      <th>4</th>\n",
       "      <td>4</td>\n",
       "      <td>40</td>\n",
       "      <td>155</td>\n",
       "      <td>60</td>\n",
       "      <td>86.0</td>\n",
       "      <td>1.0</td>\n",
       "      <td>1.0</td>\n",
       "      <td>1.0</td>\n",
       "      <td>1.0</td>\n",
       "      <td>120.0</td>\n",
       "      <td>...</td>\n",
       "      <td>0.6</td>\n",
       "      <td>16.0</td>\n",
       "      <td>14.0</td>\n",
       "      <td>22.0</td>\n",
       "      <td>0</td>\n",
       "      <td>0</td>\n",
       "      <td>1</td>\n",
       "      <td>0</td>\n",
       "      <td>1</td>\n",
       "      <td>0</td>\n",
       "    </tr>\n",
       "  </tbody>\n",
       "</table>\n",
       "<p>5 rows × 28 columns</p>\n",
       "</div>"
      ],
      "text/plain": [
       "   ID  age  height(cm)  weight(kg)  waist(cm)  eyesight(left)  \\\n",
       "0   0   40         155          60       81.3             1.2   \n",
       "1   1   40         160          60       81.0             0.8   \n",
       "2   2   55         170          60       80.0             0.8   \n",
       "3   3   40         165          70       88.0             1.5   \n",
       "4   4   40         155          60       86.0             1.0   \n",
       "\n",
       "   eyesight(right)  hearing(left)  hearing(right)  systolic  ...  \\\n",
       "0              1.0            1.0             1.0     114.0  ...   \n",
       "1              0.6            1.0             1.0     119.0  ...   \n",
       "2              0.8            1.0             1.0     138.0  ...   \n",
       "3              1.5            1.0             1.0     100.0  ...   \n",
       "4              1.0            1.0             1.0     120.0  ...   \n",
       "\n",
       "   serum creatinine   AST   ALT   Gtp  dental caries  smoking  N  Y  F  M  \n",
       "0               0.7  18.0  19.0  27.0              0        0  0  1  1  0  \n",
       "1               0.6  22.0  19.0  18.0              0        0  0  1  1  0  \n",
       "2               1.0  21.0  16.0  22.0              0        1  1  0  0  1  \n",
       "3               1.0  19.0  26.0  18.0              0        0  0  1  0  1  \n",
       "4               0.6  16.0  14.0  22.0              0        0  1  0  1  0  \n",
       "\n",
       "[5 rows x 28 columns]"
      ]
     },
     "execution_count": 11,
     "metadata": {},
     "output_type": "execute_result"
    }
   ],
   "source": [
    "df.head()"
   ]
  },
  {
   "cell_type": "markdown",
   "id": "29de2a03",
   "metadata": {
    "id": "3dNM9Gjff5Ps",
    "papermill": {
     "duration": 0.027616,
     "end_time": "2022-05-13T18:14:52.421633",
     "exception": false,
     "start_time": "2022-05-13T18:14:52.394017",
     "status": "completed"
    },
    "tags": []
   },
   "source": [
    "Create the X and Y axes to fill the **features** and **values** that will be used on the **ANN** after it first passed through the **scaler** to transform all data between 0 and 1 so our model works faster"
   ]
  },
  {
   "cell_type": "code",
   "execution_count": 12,
   "id": "9e4d321b",
   "metadata": {
    "execution": {
     "iopub.execute_input": "2022-05-13T18:14:52.477551Z",
     "iopub.status.busy": "2022-05-13T18:14:52.477016Z",
     "iopub.status.idle": "2022-05-13T18:14:52.490289Z",
     "shell.execute_reply": "2022-05-13T18:14:52.489688Z"
    },
    "id": "1273781a",
    "papermill": {
     "duration": 0.042491,
     "end_time": "2022-05-13T18:14:52.492312",
     "exception": false,
     "start_time": "2022-05-13T18:14:52.449821",
     "status": "completed"
    },
    "tags": []
   },
   "outputs": [],
   "source": [
    "feature_name = [\"ID\", \"age\", \"height(cm)\", \"weight(kg)\", \"waist(cm)\", \"eyesight(left)\", \"eyesight(right)\", \"hearing(left)\", \"hearing(right)\", \"systolic\", \"relaxation\", \"fasting blood sugar\", \"Cholesterol\", \"triglyceride\", \"HDL\", \"LDL\", \"hemoglobin\", \"Urine protein\", \"serum creatinine\", \"AST\", \"ALT\", \"Gtp\", \"dental caries\", \"N\", \"Y\", \"F\", \"M\"]\n",
    "\n",
    "dfX = df[feature_name]\n",
    "dfY = df[\"smoking\"]"
   ]
  },
  {
   "cell_type": "code",
   "execution_count": 13,
   "id": "00ec353d",
   "metadata": {
    "execution": {
     "iopub.execute_input": "2022-05-13T18:14:52.546514Z",
     "iopub.status.busy": "2022-05-13T18:14:52.546001Z",
     "iopub.status.idle": "2022-05-13T18:14:52.688730Z",
     "shell.execute_reply": "2022-05-13T18:14:52.687829Z"
    },
    "id": "c9f76656",
    "papermill": {
     "duration": 0.172631,
     "end_time": "2022-05-13T18:14:52.691203",
     "exception": false,
     "start_time": "2022-05-13T18:14:52.518572",
     "status": "completed"
    },
    "tags": []
   },
   "outputs": [],
   "source": [
    "from sklearn.preprocessing import MinMaxScaler\n",
    "scaler = MinMaxScaler()"
   ]
  },
  {
   "cell_type": "code",
   "execution_count": 14,
   "id": "66cccc46",
   "metadata": {
    "execution": {
     "iopub.execute_input": "2022-05-13T18:14:52.745624Z",
     "iopub.status.busy": "2022-05-13T18:14:52.744663Z",
     "iopub.status.idle": "2022-05-13T18:14:52.781051Z",
     "shell.execute_reply": "2022-05-13T18:14:52.780069Z"
    },
    "id": "6e4f6a1d",
    "papermill": {
     "duration": 0.066015,
     "end_time": "2022-05-13T18:14:52.783280",
     "exception": false,
     "start_time": "2022-05-13T18:14:52.717265",
     "status": "completed"
    },
    "tags": []
   },
   "outputs": [],
   "source": [
    "scaler.fit(dfX)\n",
    "dfX = scaler.transform(dfX)\n",
    "dfX = pd.DataFrame(dfX, columns=feature_name)"
   ]
  },
  {
   "cell_type": "markdown",
   "id": "1b98eec6",
   "metadata": {
    "id": "97cvzV9Jg6WD",
    "papermill": {
     "duration": 0.026173,
     "end_time": "2022-05-13T18:14:52.836714",
     "exception": false,
     "start_time": "2022-05-13T18:14:52.810541",
     "status": "completed"
    },
    "tags": []
   },
   "source": [
    "Example of the dataset we will be using to feed our model"
   ]
  },
  {
   "cell_type": "code",
   "execution_count": 15,
   "id": "5c9d8712",
   "metadata": {
    "execution": {
     "iopub.execute_input": "2022-05-13T18:14:52.892540Z",
     "iopub.status.busy": "2022-05-13T18:14:52.892271Z",
     "iopub.status.idle": "2022-05-13T18:14:52.917614Z",
     "shell.execute_reply": "2022-05-13T18:14:52.916760Z"
    },
    "id": "aaa0e347",
    "outputId": "e736d96a-cc71-4277-9ebe-5614409aa1c1",
    "papermill": {
     "duration": 0.055713,
     "end_time": "2022-05-13T18:14:52.919656",
     "exception": false,
     "start_time": "2022-05-13T18:14:52.863943",
     "status": "completed"
    },
    "tags": []
   },
   "outputs": [
    {
     "data": {
      "text/html": [
       "<div>\n",
       "<style scoped>\n",
       "    .dataframe tbody tr th:only-of-type {\n",
       "        vertical-align: middle;\n",
       "    }\n",
       "\n",
       "    .dataframe tbody tr th {\n",
       "        vertical-align: top;\n",
       "    }\n",
       "\n",
       "    .dataframe thead th {\n",
       "        text-align: right;\n",
       "    }\n",
       "</style>\n",
       "<table border=\"1\" class=\"dataframe\">\n",
       "  <thead>\n",
       "    <tr style=\"text-align: right;\">\n",
       "      <th></th>\n",
       "      <th>ID</th>\n",
       "      <th>age</th>\n",
       "      <th>height(cm)</th>\n",
       "      <th>weight(kg)</th>\n",
       "      <th>waist(cm)</th>\n",
       "      <th>eyesight(left)</th>\n",
       "      <th>eyesight(right)</th>\n",
       "      <th>hearing(left)</th>\n",
       "      <th>hearing(right)</th>\n",
       "      <th>systolic</th>\n",
       "      <th>...</th>\n",
       "      <th>Urine protein</th>\n",
       "      <th>serum creatinine</th>\n",
       "      <th>AST</th>\n",
       "      <th>ALT</th>\n",
       "      <th>Gtp</th>\n",
       "      <th>dental caries</th>\n",
       "      <th>N</th>\n",
       "      <th>Y</th>\n",
       "      <th>F</th>\n",
       "      <th>M</th>\n",
       "    </tr>\n",
       "  </thead>\n",
       "  <tbody>\n",
       "    <tr>\n",
       "      <th>0</th>\n",
       "      <td>0.000000</td>\n",
       "      <td>0.307692</td>\n",
       "      <td>0.416667</td>\n",
       "      <td>0.285714</td>\n",
       "      <td>0.388462</td>\n",
       "      <td>0.112245</td>\n",
       "      <td>0.091837</td>\n",
       "      <td>0.0</td>\n",
       "      <td>0.0</td>\n",
       "      <td>0.254438</td>\n",
       "      <td>...</td>\n",
       "      <td>0.0</td>\n",
       "      <td>0.052174</td>\n",
       "      <td>0.009195</td>\n",
       "      <td>0.006179</td>\n",
       "      <td>0.026052</td>\n",
       "      <td>0.0</td>\n",
       "      <td>0.0</td>\n",
       "      <td>1.0</td>\n",
       "      <td>1.0</td>\n",
       "      <td>0.0</td>\n",
       "    </tr>\n",
       "    <tr>\n",
       "      <th>1</th>\n",
       "      <td>0.000018</td>\n",
       "      <td>0.307692</td>\n",
       "      <td>0.500000</td>\n",
       "      <td>0.285714</td>\n",
       "      <td>0.384615</td>\n",
       "      <td>0.071429</td>\n",
       "      <td>0.051020</td>\n",
       "      <td>0.0</td>\n",
       "      <td>0.0</td>\n",
       "      <td>0.284024</td>\n",
       "      <td>...</td>\n",
       "      <td>0.0</td>\n",
       "      <td>0.043478</td>\n",
       "      <td>0.012261</td>\n",
       "      <td>0.006179</td>\n",
       "      <td>0.017034</td>\n",
       "      <td>0.0</td>\n",
       "      <td>0.0</td>\n",
       "      <td>1.0</td>\n",
       "      <td>1.0</td>\n",
       "      <td>0.0</td>\n",
       "    </tr>\n",
       "    <tr>\n",
       "      <th>2</th>\n",
       "      <td>0.000036</td>\n",
       "      <td>0.538462</td>\n",
       "      <td>0.666667</td>\n",
       "      <td>0.285714</td>\n",
       "      <td>0.371795</td>\n",
       "      <td>0.071429</td>\n",
       "      <td>0.071429</td>\n",
       "      <td>0.0</td>\n",
       "      <td>0.0</td>\n",
       "      <td>0.396450</td>\n",
       "      <td>...</td>\n",
       "      <td>0.0</td>\n",
       "      <td>0.078261</td>\n",
       "      <td>0.011494</td>\n",
       "      <td>0.005149</td>\n",
       "      <td>0.021042</td>\n",
       "      <td>0.0</td>\n",
       "      <td>1.0</td>\n",
       "      <td>0.0</td>\n",
       "      <td>0.0</td>\n",
       "      <td>1.0</td>\n",
       "    </tr>\n",
       "    <tr>\n",
       "      <th>3</th>\n",
       "      <td>0.000054</td>\n",
       "      <td>0.307692</td>\n",
       "      <td>0.583333</td>\n",
       "      <td>0.380952</td>\n",
       "      <td>0.474359</td>\n",
       "      <td>0.142857</td>\n",
       "      <td>0.142857</td>\n",
       "      <td>0.0</td>\n",
       "      <td>0.0</td>\n",
       "      <td>0.171598</td>\n",
       "      <td>...</td>\n",
       "      <td>0.0</td>\n",
       "      <td>0.078261</td>\n",
       "      <td>0.009962</td>\n",
       "      <td>0.008582</td>\n",
       "      <td>0.017034</td>\n",
       "      <td>0.0</td>\n",
       "      <td>0.0</td>\n",
       "      <td>1.0</td>\n",
       "      <td>0.0</td>\n",
       "      <td>1.0</td>\n",
       "    </tr>\n",
       "    <tr>\n",
       "      <th>4</th>\n",
       "      <td>0.000072</td>\n",
       "      <td>0.307692</td>\n",
       "      <td>0.416667</td>\n",
       "      <td>0.285714</td>\n",
       "      <td>0.448718</td>\n",
       "      <td>0.091837</td>\n",
       "      <td>0.091837</td>\n",
       "      <td>0.0</td>\n",
       "      <td>0.0</td>\n",
       "      <td>0.289941</td>\n",
       "      <td>...</td>\n",
       "      <td>0.0</td>\n",
       "      <td>0.043478</td>\n",
       "      <td>0.007663</td>\n",
       "      <td>0.004463</td>\n",
       "      <td>0.021042</td>\n",
       "      <td>0.0</td>\n",
       "      <td>1.0</td>\n",
       "      <td>0.0</td>\n",
       "      <td>1.0</td>\n",
       "      <td>0.0</td>\n",
       "    </tr>\n",
       "  </tbody>\n",
       "</table>\n",
       "<p>5 rows × 27 columns</p>\n",
       "</div>"
      ],
      "text/plain": [
       "         ID       age  height(cm)  weight(kg)  waist(cm)  eyesight(left)  \\\n",
       "0  0.000000  0.307692    0.416667    0.285714   0.388462        0.112245   \n",
       "1  0.000018  0.307692    0.500000    0.285714   0.384615        0.071429   \n",
       "2  0.000036  0.538462    0.666667    0.285714   0.371795        0.071429   \n",
       "3  0.000054  0.307692    0.583333    0.380952   0.474359        0.142857   \n",
       "4  0.000072  0.307692    0.416667    0.285714   0.448718        0.091837   \n",
       "\n",
       "   eyesight(right)  hearing(left)  hearing(right)  systolic  ...  \\\n",
       "0         0.091837            0.0             0.0  0.254438  ...   \n",
       "1         0.051020            0.0             0.0  0.284024  ...   \n",
       "2         0.071429            0.0             0.0  0.396450  ...   \n",
       "3         0.142857            0.0             0.0  0.171598  ...   \n",
       "4         0.091837            0.0             0.0  0.289941  ...   \n",
       "\n",
       "   Urine protein  serum creatinine       AST       ALT       Gtp  \\\n",
       "0            0.0          0.052174  0.009195  0.006179  0.026052   \n",
       "1            0.0          0.043478  0.012261  0.006179  0.017034   \n",
       "2            0.0          0.078261  0.011494  0.005149  0.021042   \n",
       "3            0.0          0.078261  0.009962  0.008582  0.017034   \n",
       "4            0.0          0.043478  0.007663  0.004463  0.021042   \n",
       "\n",
       "   dental caries    N    Y    F    M  \n",
       "0            0.0  0.0  1.0  1.0  0.0  \n",
       "1            0.0  0.0  1.0  1.0  0.0  \n",
       "2            0.0  1.0  0.0  0.0  1.0  \n",
       "3            0.0  0.0  1.0  0.0  1.0  \n",
       "4            0.0  1.0  0.0  1.0  0.0  \n",
       "\n",
       "[5 rows x 27 columns]"
      ]
     },
     "execution_count": 15,
     "metadata": {},
     "output_type": "execute_result"
    }
   ],
   "source": [
    "dfX.head()"
   ]
  },
  {
   "cell_type": "code",
   "execution_count": 16,
   "id": "d2f63387",
   "metadata": {
    "execution": {
     "iopub.execute_input": "2022-05-13T18:14:52.976492Z",
     "iopub.status.busy": "2022-05-13T18:14:52.975962Z",
     "iopub.status.idle": "2022-05-13T18:14:52.982268Z",
     "shell.execute_reply": "2022-05-13T18:14:52.981487Z"
    },
    "id": "mt6dIXE5Tyye",
    "outputId": "77209802-2fae-4e9f-872b-4d10278c0796",
    "papermill": {
     "duration": 0.037508,
     "end_time": "2022-05-13T18:14:52.984099",
     "exception": false,
     "start_time": "2022-05-13T18:14:52.946591",
     "status": "completed"
    },
    "tags": []
   },
   "outputs": [
    {
     "data": {
      "text/plain": [
       "0    0\n",
       "1    0\n",
       "2    1\n",
       "3    0\n",
       "4    0\n",
       "Name: smoking, dtype: int64"
      ]
     },
     "execution_count": 16,
     "metadata": {},
     "output_type": "execute_result"
    }
   ],
   "source": [
    "dfY.head()"
   ]
  },
  {
   "cell_type": "markdown",
   "id": "7ebfb7ff",
   "metadata": {
    "id": "RXTF24nLhJzk",
    "papermill": {
     "duration": 0.026402,
     "end_time": "2022-05-13T18:14:53.036857",
     "exception": false,
     "start_time": "2022-05-13T18:14:53.010455",
     "status": "completed"
    },
    "tags": []
   },
   "source": [
    "# Split data"
   ]
  },
  {
   "cell_type": "markdown",
   "id": "58d2cccd",
   "metadata": {
    "id": "YJXaMcLFhb6o",
    "papermill": {
     "duration": 0.028873,
     "end_time": "2022-05-13T18:14:53.093584",
     "exception": false,
     "start_time": "2022-05-13T18:14:53.064711",
     "status": "completed"
    },
    "tags": []
   },
   "source": [
    "As always, we must divide the data into **test** and **train** to validate our accuracy later"
   ]
  },
  {
   "cell_type": "code",
   "execution_count": 17,
   "id": "a62282d5",
   "metadata": {
    "execution": {
     "iopub.execute_input": "2022-05-13T18:14:53.149976Z",
     "iopub.status.busy": "2022-05-13T18:14:53.149410Z",
     "iopub.status.idle": "2022-05-13T18:14:53.231398Z",
     "shell.execute_reply": "2022-05-13T18:14:53.230496Z"
    },
    "id": "65ee7b67",
    "papermill": {
     "duration": 0.112468,
     "end_time": "2022-05-13T18:14:53.233841",
     "exception": false,
     "start_time": "2022-05-13T18:14:53.121373",
     "status": "completed"
    },
    "tags": []
   },
   "outputs": [],
   "source": [
    "from sklearn.model_selection import train_test_split\n",
    "X_train, X_test, y_train, y_test = train_test_split(dfX, dfY, test_size=0.20, random_state=1)"
   ]
  },
  {
   "cell_type": "markdown",
   "id": "a223e70d",
   "metadata": {
    "id": "3RUOvGSBhWKO",
    "papermill": {
     "duration": 0.026962,
     "end_time": "2022-05-13T18:14:53.287756",
     "exception": false,
     "start_time": "2022-05-13T18:14:53.260794",
     "status": "completed"
    },
    "tags": []
   },
   "source": [
    "# Build and train the model"
   ]
  },
  {
   "cell_type": "markdown",
   "id": "a37f0263",
   "metadata": {
    "id": "hEpYCv9jhn4K",
    "papermill": {
     "duration": 0.026619,
     "end_time": "2022-05-13T18:14:53.341865",
     "exception": false,
     "start_time": "2022-05-13T18:14:53.315246",
     "status": "completed"
    },
    "tags": []
   },
   "source": [
    "I'm aware that my model could be much better and would need help to improve its accuracy"
   ]
  },
  {
   "cell_type": "code",
   "execution_count": 18,
   "id": "7197f4fd",
   "metadata": {
    "execution": {
     "iopub.execute_input": "2022-05-13T18:14:53.399220Z",
     "iopub.status.busy": "2022-05-13T18:14:53.398948Z",
     "iopub.status.idle": "2022-05-13T18:14:59.456549Z",
     "shell.execute_reply": "2022-05-13T18:14:59.455699Z"
    },
    "id": "X87cuffHdo2_",
    "papermill": {
     "duration": 6.087865,
     "end_time": "2022-05-13T18:14:59.459019",
     "exception": false,
     "start_time": "2022-05-13T18:14:53.371154",
     "status": "completed"
    },
    "tags": []
   },
   "outputs": [],
   "source": [
    "from keras.models import Sequential\n",
    "from keras.layers.core import Dense\n",
    "import keras\n",
    "from keras.optimizers import *\n",
    "from keras.initializers import *\n",
    "from keras.layers import Dropout"
   ]
  },
  {
   "cell_type": "markdown",
   "id": "351a54c2",
   "metadata": {
    "id": "EYhGNh88iWHE",
    "papermill": {
     "duration": 0.027613,
     "end_time": "2022-05-13T18:14:59.516554",
     "exception": false,
     "start_time": "2022-05-13T18:14:59.488941",
     "status": "completed"
    },
    "tags": []
   },
   "source": [
    "To create a **Sequential** model for **binary classification** we must select the **Sigmoid** activation function in the last layer and enable only **1** neuron"
   ]
  },
  {
   "cell_type": "code",
   "execution_count": 19,
   "id": "f9ccce63",
   "metadata": {
    "execution": {
     "iopub.execute_input": "2022-05-13T18:14:59.572536Z",
     "iopub.status.busy": "2022-05-13T18:14:59.571990Z",
     "iopub.status.idle": "2022-05-13T18:16:27.991790Z",
     "shell.execute_reply": "2022-05-13T18:16:27.989913Z"
    },
    "id": "M0Uq6pKpUJgc",
    "outputId": "c28c58cd-1e9d-4151-c5cb-3fe653abc9c5",
    "papermill": {
     "duration": 88.450868,
     "end_time": "2022-05-13T18:16:27.994383",
     "exception": false,
     "start_time": "2022-05-13T18:14:59.543515",
     "status": "completed"
    },
    "tags": []
   },
   "outputs": [
    {
     "name": "stderr",
     "output_type": "stream",
     "text": [
      "2022-05-13 18:14:59.610385: I tensorflow/core/common_runtime/process_util.cc:146] Creating new thread pool with default inter op setting: 2. Tune using inter_op_parallelism_threads for best performance.\n",
      "2022-05-13 18:14:59.814188: I tensorflow/compiler/mlir/mlir_graph_optimization_pass.cc:185] None of the MLIR Optimization Passes are enabled (registered 2)\n"
     ]
    },
    {
     "name": "stdout",
     "output_type": "stream",
     "text": [
      "Epoch 1/10\n",
      "4456/4456 - 9s - loss: 0.4980 - accuracy: 0.7171 - val_loss: 0.4752 - val_accuracy: 0.7327\n",
      "Epoch 2/10\n",
      "4456/4456 - 8s - loss: 0.4833 - accuracy: 0.7349 - val_loss: 0.4738 - val_accuracy: 0.7331\n",
      "Epoch 3/10\n",
      "4456/4456 - 8s - loss: 0.4793 - accuracy: 0.7403 - val_loss: 0.4720 - val_accuracy: 0.7388\n",
      "Epoch 4/10\n",
      "4456/4456 - 8s - loss: 0.4774 - accuracy: 0.7428 - val_loss: 0.4621 - val_accuracy: 0.7493\n",
      "Epoch 5/10\n",
      "4456/4456 - 8s - loss: 0.4760 - accuracy: 0.7436 - val_loss: 0.4612 - val_accuracy: 0.7522\n",
      "Epoch 6/10\n",
      "4456/4456 - 8s - loss: 0.4751 - accuracy: 0.7450 - val_loss: 0.4594 - val_accuracy: 0.7528\n",
      "Epoch 7/10\n",
      "4456/4456 - 8s - loss: 0.4745 - accuracy: 0.7438 - val_loss: 0.4572 - val_accuracy: 0.7594\n",
      "Epoch 8/10\n",
      "4456/4456 - 8s - loss: 0.4734 - accuracy: 0.7469 - val_loss: 0.4686 - val_accuracy: 0.7323\n",
      "Epoch 9/10\n",
      "4456/4456 - 7s - loss: 0.4731 - accuracy: 0.7475 - val_loss: 0.4617 - val_accuracy: 0.7439\n",
      "Epoch 10/10\n",
      "4456/4456 - 7s - loss: 0.4709 - accuracy: 0.7490 - val_loss: 0.4572 - val_accuracy: 0.7569\n",
      "4456/4456 [==============================] - 5s 1ms/step - loss: 0.4708 - accuracy: 0.7470\n",
      "Train score: 0.4708210527896881\n",
      "Train accuracy: 0.7470428347587585\n",
      "********************\n",
      "1114/1114 [==============================] - 1s 1ms/step - loss: 0.4572 - accuracy: 0.7569\n",
      "Test score: 0.4572281539440155\n",
      "Test accuracy: 0.7568901777267456\n"
     ]
    }
   ],
   "source": [
    "model = Sequential()\n",
    "\n",
    "#Since the total number of columns in the dataframe is 27, that's what we fill in input dimension\n",
    "\n",
    "model.add(Dense(10, input_dim=27, kernel_initializer='normal', activation='relu'))\n",
    "model.add(Dropout(rate = 0.1))\n",
    "model.add(Dense(64, kernel_initializer='normal', activation='relu'))\n",
    "model.add(Dropout(rate = 0.1))\n",
    "model.add(Dense(1, kernel_initializer='normal', activation='sigmoid'))\n",
    "\n",
    "#Compile model. We use logarithmic loss function, and the Adam gradient optimizer.\n",
    "model.compile(loss='binary_crossentropy', optimizer='adam', metrics=['accuracy'])\n",
    "\n",
    "#Fitting the ANN to the Training set\n",
    "fit = model.fit(X_train, y_train, batch_size = 10, epochs = 10 ,verbose = 2, validation_data=(X_test, y_test))\n",
    "\n",
    "#Making predictions and evaluating the model\n",
    "score, acc = model.evaluate(X_train, y_train,\n",
    "                            batch_size=10)\n",
    "\n",
    "print('Train score:', score)\n",
    "print('Train accuracy:', acc)\n",
    "\n",
    "#Predicting the Test set results\n",
    "y_pred = model.predict(X_test)\n",
    "y_pred = (y_pred > 0.5)\n",
    "\n",
    "print('*'*20)\n",
    "score, acc = model.evaluate(X_test, y_test,\n",
    "                            batch_size=10)\n",
    "print('Test score:', score)\n",
    "print('Test accuracy:', acc)\n"
   ]
  },
  {
   "cell_type": "markdown",
   "id": "0ca85032",
   "metadata": {
    "id": "B1odqnGLjG3q",
    "papermill": {
     "duration": 0.071245,
     "end_time": "2022-05-13T18:16:28.137359",
     "exception": false,
     "start_time": "2022-05-13T18:16:28.066114",
     "status": "completed"
    },
    "tags": []
   },
   "source": [
    "# Analyze the predictions"
   ]
  },
  {
   "cell_type": "markdown",
   "id": "bffd16ef",
   "metadata": {
    "id": "NGZcqdIxjKJk",
    "papermill": {
     "duration": 0.070898,
     "end_time": "2022-05-13T18:16:28.281990",
     "exception": false,
     "start_time": "2022-05-13T18:16:28.211092",
     "status": "completed"
    },
    "tags": []
   },
   "source": [
    "Use **matplotlib** to generate a graph that shows us the progression of our model with the **Training and Validation loss**"
   ]
  },
  {
   "cell_type": "code",
   "execution_count": 20,
   "id": "2cdf2aa8",
   "metadata": {
    "execution": {
     "iopub.execute_input": "2022-05-13T18:16:28.431239Z",
     "iopub.status.busy": "2022-05-13T18:16:28.430683Z",
     "iopub.status.idle": "2022-05-13T18:16:28.679042Z",
     "shell.execute_reply": "2022-05-13T18:16:28.678108Z"
    },
    "id": "_V29zKjsk1ZJ",
    "outputId": "389cc391-2a63-4950-e40b-b51938493066",
    "papermill": {
     "duration": 0.32469,
     "end_time": "2022-05-13T18:16:28.681147",
     "exception": false,
     "start_time": "2022-05-13T18:16:28.356457",
     "status": "completed"
    },
    "tags": []
   },
   "outputs": [
    {
     "data": {
      "image/png": "[encoded data removed]",
      "text/plain": [
       "<Figure size 432x288 with 1 Axes>"
      ]
     },
     "metadata": {
      "needs_background": "light"
     },
     "output_type": "display_data"
    }
   ],
   "source": [
    "history_df = pd.DataFrame(fit.history)\n",
    "\n",
    "plt.plot(history_df.loc[:, ['loss']], \"#6daa9f\", label='Training loss')\n",
    "plt.plot(history_df.loc[:, ['val_loss']],\"#774571\", label='Validation loss')\n",
    "plt.title('Training and Validation loss')\n",
    "plt.xlabel('Epochs')\n",
    "plt.ylabel('Loss')\n",
    "plt.legend(loc=\"best\")\n",
    "\n",
    "plt.show()"
   ]
  },
  {
   "cell_type": "markdown",
   "id": "4ad3f3ac",
   "metadata": {
    "id": "ey5NESemjiHd",
    "papermill": {
     "duration": 0.072183,
     "end_time": "2022-05-13T18:16:28.827897",
     "exception": false,
     "start_time": "2022-05-13T18:16:28.755714",
     "status": "completed"
    },
    "tags": []
   },
   "source": [
    "We use **Sklearn** to generate a **Confusion matrix** that helps us to see the distribution of the errors of our algorithm and a **Roc curve** for a better understanding of the learning of our model"
   ]
  },
  {
   "cell_type": "code",
   "execution_count": 21,
   "id": "1a3e822d",
   "metadata": {
    "execution": {
     "iopub.execute_input": "2022-05-13T18:16:28.976243Z",
     "iopub.status.busy": "2022-05-13T18:16:28.975947Z",
     "iopub.status.idle": "2022-05-13T18:16:29.160229Z",
     "shell.execute_reply": "2022-05-13T18:16:29.159192Z"
    },
    "id": "vRKG_YBCXsQ8",
    "outputId": "9891d12c-38a6-4c4f-a23f-c583729244d8",
    "papermill": {
     "duration": 0.260329,
     "end_time": "2022-05-13T18:16:29.162399",
     "exception": false,
     "start_time": "2022-05-13T18:16:28.902070",
     "status": "completed"
    },
    "tags": []
   },
   "outputs": [
    {
     "data": {
      "text/plain": [
       "Text(0.5, 15.0, 'Predicted label')"
      ]
     },
     "execution_count": 21,
     "metadata": {},
     "output_type": "execute_result"
    },
    {
     "data": {
      "image/png": "[encoded data removed]",
      "text/plain": [
       "<Figure size 432x288 with 2 Axes>"
      ]
     },
     "metadata": {
      "needs_background": "light"
     },
     "output_type": "display_data"
    }
   ],
   "source": [
    "from sklearn.metrics import confusion_matrix\n",
    "cm = confusion_matrix(y_test, y_pred)\n",
    "p = sns.heatmap(pd.DataFrame(cm), annot=True, cmap=\"YlGnBu\" ,fmt='g')\n",
    "plt.title('Confusion matrix', y=1.1)\n",
    "plt.ylabel('Actual label')\n",
    "plt.xlabel('Predicted label')"
   ]
  },
  {
   "cell_type": "code",
   "execution_count": 22,
   "id": "ba19d398",
   "metadata": {
    "execution": {
     "iopub.execute_input": "2022-05-13T18:16:29.311410Z",
     "iopub.status.busy": "2022-05-13T18:16:29.311123Z",
     "iopub.status.idle": "2022-05-13T18:16:29.809081Z",
     "shell.execute_reply": "2022-05-13T18:16:29.808108Z"
    },
    "id": "e1VyayveXtVi",
    "outputId": "56d0617f-7779-4916-d7f1-799d119ebe52",
    "papermill": {
     "duration": 0.57572,
     "end_time": "2022-05-13T18:16:29.811441",
     "exception": false,
     "start_time": "2022-05-13T18:16:29.235721",
     "status": "completed"
    },
    "tags": []
   },
   "outputs": [
    {
     "data": {
      "image/png": "[encoded data removed]",
      "text/plain": [
       "<Figure size 432x288 with 1 Axes>"
      ]
     },
     "metadata": {
      "needs_background": "light"
     },
     "output_type": "display_data"
    }
   ],
   "source": [
    "from sklearn.metrics import roc_curve\n",
    "y_pred_proba = model.predict(X_test)\n",
    "fpr, tpr, thresholds = roc_curve(y_test, y_pred_proba)\n",
    "plt.plot([0,1],[0,1],'k--')\n",
    "plt.plot(fpr,tpr, label='ANN')\n",
    "plt.xlabel('fpr')\n",
    "plt.ylabel('tpr')\n",
    "plt.title('ROC curve')\n",
    "plt.show()"
   ]
  }
 ],
 "metadata": {
  "kernelspec": {
   "display_name": "Python 3",
   "language": "python",
   "name": "python3"
  },
  "language_info": {
   "codemirror_mode": {
    "name": "ipython",
    "version": 3
   },
   "file_extension": ".py",
   "mimetype": "text/x-python",
   "name": "python",
   "nbconvert_exporter": "python",
   "pygments_lexer": "ipython3",
   "version": "3.7.12"
  },
  "papermill": {
   "default_parameters": {},
   "duration": 112.640094,
   "end_time": "2022-05-13T18:16:33.212267",
   "environment_variables": {},
   "exception": null,
   "input_path": "__notebook__.ipynb",
   "output_path": "__notebook__.ipynb",
   "parameters": {},
   "start_time": "2022-05-13T18:14:40.572173",
   "version": "2.3.4"
  }
 },
 "nbformat": 4,
 "nbformat_minor": 5
}
